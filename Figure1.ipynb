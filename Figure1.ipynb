{
  "nbformat": 4,
  "nbformat_minor": 0,
  "metadata": {
    "colab": {
      "name": "Figure1.ipynb",
      "provenance": [],
      "authorship_tag": "ABX9TyM4REQZi+LixB4Xpbu1duIw",
      "include_colab_link": true
    },
    "kernelspec": {
      "name": "python3",
      "display_name": "Python 3"
    }
  },
  "cells": [
    {
      "cell_type": "markdown",
      "metadata": {
        "id": "view-in-github",
        "colab_type": "text"
      },
      "source": [
        "<a href=\"https://colab.research.google.com/github/vitroid/hyperhomogeneity/blob/main/Figure1.ipynb\" target=\"_parent\"><img src=\"https://colab.research.google.com/assets/colab-badge.svg\" alt=\"Open In Colab\"/></a>"
      ]
    },
    {
      "cell_type": "markdown",
      "metadata": {
        "id": "7KCpzxWunXOF"
      },
      "source": [
        "The code generates a histogram of cumulative interactions from the coordinates of the quenched ice.\n",
        "\n",
        "Only a limited number of configurations are included here.\n",
        "\n",
        "This code is intended to be run on Google Colaboratory."
      ]
    },
    {
      "cell_type": "code",
      "metadata": {
        "id": "ION65VOGnWSl"
      },
      "source": [
        "# Obtain the molecular coordinates of ices.\n",
        "! rm -rf hyperhomogeneity\n",
        "! apt install git-lfs\n",
        "! git clone https://github.com/vitroid/hyperhomogeneity.git\n",
        "! pip install yaplotlib vapory pairlist"
      ],
      "execution_count": null,
      "outputs": []
    },
    {
      "cell_type": "code",
      "metadata": {
        "id": "JoHKShvqqnGu"
      },
      "source": [
        "! cd hyperhomogeneity; git pull\n",
        "! pip install yaplotlib vapory pairlist"
      ],
      "execution_count": null,
      "outputs": []
    },
    {
      "cell_type": "code",
      "metadata": {
        "id": "TEFOwOrXnBHb"
      },
      "source": [
        "from hyperhomogeneity.ice7analysis import *\n",
        "import glob\n",
        "\n",
        "# Quenched\n",
        "ices = [\"1h\", \"2D2\", \"3\", \"5\", \"6\", \"7\"]\n",
        "\n",
        "linear = np.linspace(3, 13, 501)\n",
        "values = np.linspace(-160,-20,281)\n",
        "# print(linear)\n",
        "H2 = dict()\n",
        "for ice in ices:\n",
        "    HH = np.zeros([linear.shape[0], values.shape[0]])\n",
        "    for filename in glob.glob(f\"hyperhomogeneity/q/{ice}-*.q.nx3a\"):\n",
        "        comeus, cell = load_nx3a(open(filename))\n",
        "        cellmat = np.diag(cell)\n",
        "        d_e = accum0(comeus, cellmat, range(len(comeus)), maxdist=13.2)\n",
        "        for sf in steppify(d_e, linear):\n",
        "            isf = ((sf+160)*2+0.5).astype(int)\n",
        "            for i, v in enumerate(isf):\n",
        "                if v < values.shape[0]:\n",
        "                    HH[i,v] += 1\n",
        "    print(ice)\n",
        "    plt.imshow((HH.T)[::-1])\n",
        "    plt.show()\n",
        "    #plt.plot(HH[0])\n",
        "    #plt.show()\n",
        "    H2[ice] = HH, linear, values\n",
        "    #print(HH)\n",
        "    #assert False\n",
        "\n",
        "import pickle\n",
        "with open('H2.pickle', 'wb') as f:\n",
        "    pickle.dump(H2, f)"
      ],
      "execution_count": null,
      "outputs": []
    },
    {
      "cell_type": "code",
      "metadata": {
        "id": "SsFPAb2ssIf6"
      },
      "source": [
        "from mpl_toolkits.axes_grid.inset_locator import inset_axes\n",
        "import matplotlib.cm as cm\n",
        "from hyperhomogeneity.ice7analysis import *\n",
        "\n",
        "# fig, ax = plt.subplots(1,3)\n",
        "fig  = plt.figure(figsize=(5,10))\n",
        "grid = plt.GridSpec(5, 3, width_ratios=[1, 3, 1], height_ratios=[7,7,7,7,11], wspace=0, hspace=0) \n",
        "linear = np.linspace(2.5,13.5,1000)\n",
        "\n",
        "import pickle\n",
        "\n",
        "with open('H2.pickle', 'rb') as f:\n",
        "    H2 = pickle.load(f)\n",
        "\n",
        "    \n",
        "conv = dict()\n",
        "for line in \"\"\"\n",
        "# ice c xmax ymax ylast\n",
        "1h 3.6 5.5 7.4 2.1\n",
        "3 3.5 4.3 12.3 3.5\n",
        "5 3.1 4.0 13.3 4.3\n",
        "6 3.9 4.4 13.7 3.5\n",
        "7 7.4 3.1 19.5 2.6\n",
        "\"\"\".splitlines():\n",
        "    if len(line) == 0:\n",
        "        continue\n",
        "    if line[0] == \"#\":\n",
        "        continue\n",
        "    cols = line.split()\n",
        "    conv[cols[0]] = [float(x) for x in cols[1:]]\n",
        "\n",
        "\n",
        "for panel, (ice, ra) in enumerate([[\"1h\", [-150,-80]],\n",
        "                                         [\"3\",  [-150,-80]],\n",
        "                                         [\"5\",  [-150,-80]],\n",
        "                                         [\"6\",  [-150,-80]],\n",
        "                                         [\"7\",  [-130,-20]]]):\n",
        "    comeus, cell = load_nx3a(open(f\"hyperhomogeneity/q/{ice}-1000.q.nx3a\"))\n",
        "    cellmat = np.diag(cell)\n",
        "    d_e = accum0(comeus, cellmat, range(50), maxdist=13.2)\n",
        "    N = len(d_e)\n",
        "\n",
        "    main_ax = fig.add_subplot(grid[panel,1], xticks=[3,8,13])\n",
        "    hist3   = fig.add_subplot(grid[panel,0], xticklabels=[], sharey=main_ax, yticks=(-140,-100,-60))\n",
        "    hist13  = fig.add_subplot(grid[panel,2], xticklabels=[], sharey=main_ax)\n",
        "\n",
        "    # 距離4でのエネルギーの値でソートする。\n",
        "\n",
        "    e4 = np.zeros(N)\n",
        "    for i, (d,e) in enumerate(d_e):\n",
        "        e4[i] = e[d<4.0][-1]\n",
        "    order = np.argsort(e4)\n",
        "    redro = np.zeros(N)\n",
        "    for i in range(N):\n",
        "        redro[order[i]] = i\n",
        "    for i in range(N):\n",
        "        j = redro[i]\n",
        "        avg,sd,cnt = stepgraph(d_e[i:i+1], linear) # single data\n",
        "        main_ax.plot(linear, avg, color=cm.coolwarm(j/N), lw=0.5)\n",
        "\n",
        "    convergence, xmax, ymax, ylast = conv[ice]\n",
        "    # center panel\n",
        "    main_ax.set_xlabel(\"Distance / 0.1 nm\")\n",
        "    main_ax.set_xlim(3,13)\n",
        "    main_ax.label_outer()\n",
        "    main_ax.set_ylim(ra)\n",
        "    main_ax.annotate(\"ice {0}\".format(ice), xy=(0.95,0.8), fontsize=18,xycoords='axes fraction', horizontalalignment='right')\n",
        "    main_ax.annotate(\"c = {0:.1f}\".format(convergence), xy=(0.95,0.6), fontsize=14,xycoords='axes fraction', horizontalalignment='right')\n",
        "    main_ax.plot([xmax, xmax], [0, -1000], \"g-\", lw=1.0)\n",
        "    main_ax.tick_params(labelsize=14)\n",
        "    \n",
        "    if ice == \"Ih\":\n",
        "        coord11, cell11 = load_nx3a(open(\"11.nx3a\"))\n",
        "        cellmat11 = np.diag(cell11)\n",
        "        rpos11 = coord11[:, :3]\n",
        "        d_e11 = accum0(coord11, cellmat11, range(2), maxdist=13.2)\n",
        "        N11 = len(d_e11)\n",
        "        for i in range(N11):\n",
        "            avg,sd,cnt = stepgraph(d_e11[i:i+1], linear) # single data\n",
        "            main_ax.plot(linear, avg, \"k\", lw=1.0)\n",
        "\n",
        "\n",
        "        \n",
        "        \n",
        "\n",
        "    HH, xgauge, ygauge = H2[ice]\n",
        "\n",
        "    # left\n",
        "    if panel==2:\n",
        "        hist3.set_ylabel(\"I_i(r) / kJ mol-1\")\n",
        "    hist3.fill(HH[0,:], ygauge, color=cm.viridis(panel/4))\n",
        "    ixmax = np.argmin(np.abs(xgauge-xmax))\n",
        "    hist3.plot(HH[ixmax,:], ygauge, 'k-', lw=0.5)\n",
        "\n",
        "    hist3.invert_xaxis()\n",
        "    hist3.set_xlim(None,0)\n",
        "    hist3.set_ylim(ra)\n",
        "    hist3.tick_params(labelsize=14)\n",
        "\n",
        "    # right\n",
        "    hist13.fill(HH[-1,:], ygauge, color=cm.viridis(panel/4))\n",
        "    hist13.set_xlim(0,None)\n",
        "    hist13.label_outer()\n",
        "    hist13.set_ylim(ra)\n",
        "\n",
        "\n",
        "\n",
        "#for a in ax.flat:\n",
        "#    # Hide x labels and tick labels for top plots and y ticks for right plots.\n",
        "#    a.label_outer()\n",
        "#    a.set_ylim(-150,-80)\n",
        "fig.savefig(\"Figure1.pdf\", bbox_inches=\"tight\")"
      ],
      "execution_count": null,
      "outputs": []
    },
    {
      "cell_type": "code",
      "metadata": {
        "id": "mAtTUlBYwmOr"
      },
      "source": [
        ""
      ],
      "execution_count": null,
      "outputs": []
    }
  ]
}